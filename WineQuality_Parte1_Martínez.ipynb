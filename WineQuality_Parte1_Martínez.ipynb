{
  "nbformat": 4,
  "nbformat_minor": 0,
  "metadata": {
    "colab": {
      "provenance": [],
      "authorship_tag": "ABX9TyOYMOv0zz1ERX/0n6NfarUD",
      "include_colab_link": true
    },
    "kernelspec": {
      "name": "python3",
      "display_name": "Python 3"
    },
    "language_info": {
      "name": "python"
    }
  },
  "cells": [
    {
      "cell_type": "markdown",
      "metadata": {
        "id": "view-in-github",
        "colab_type": "text"
      },
      "source": [
        "<a href=\"https://colab.research.google.com/github/ignaciomz/CH_IM_61140/blob/main/WineQuality_Parte1_Mart%C3%ADnez.ipynb\" target=\"_parent\"><img src=\"https://colab.research.google.com/assets/colab-badge.svg\" alt=\"Open In Colab\"/></a>"
      ]
    },
    {
      "cell_type": "code",
      "execution_count": 1,
      "metadata": {
        "id": "SleI0DBgo8zH"
      },
      "outputs": [],
      "source": [
        "import pandas as pd"
      ]
    },
    {
      "cell_type": "code",
      "source": [
        "url = \"https://raw.githubusercontent.com/ignaciomz/CH_IM_61140/main/WineQT.csv\"\n",
        "qw = pd.read_csv(url, sep=\";\")"
      ],
      "metadata": {
        "id": "OE83Rj2aq3b5"
      },
      "execution_count": 7,
      "outputs": []
    },
    {
      "cell_type": "code",
      "source": [
        "# Análisis de la Calidad del Vino: Un Estudio Basado en Datos\n",
        "\n",
        "# En el presente estudio se realiza un análisis exhaustivo de la calidad del vino utilizando un conjunto de datos\n",
        "# obtenido de Kaggle. Este dataset incluye diversas variables cuantitativas que son fundamentales para la evaluación\n",
        "# de las características físicas y químicas del vino. Las variables consideradas en este análisis son: acidez fija,\n",
        "# acidez volátil, ácido cítrico, azúcar residual, cloruros, dióxido de azufre libre, dióxido de azufre total, densidad,\n",
        "# pH, sulfatos, alcohol y calidad, junto con un identificador único (Id) para cada muestra.\n",
        "\n",
        "# El objetivo principal de este análisis es determinar cómo las diferentes propiedades químicas del vino influyen en\n",
        "# su calidad final, que está representada por una variable categórica en el dataset.\n",
        "\n",
        "# Este análisis proporciona una comprensión detallada de cómo las propiedades químicas influyen en la calidad del vino.\n",
        "# Los resultados obtenidos no solo son útiles para los productores de vino en la optimización de sus procesos, sino\n",
        "# también para los consumidores y expertos que buscan entender mejor las características que definen un vino de alta\n",
        "# calidad. Las técnicas de machine learning aplicadas en este estudio demuestran ser herramientas valiosas para la\n",
        "# predicción y evaluación de la calidad del vino, abriendo puertas a futuras investigaciones y aplicaciones en la\n",
        "# enología. Además, se exploran técnicas de análisis exploratorio y visualización de datos para identificar patrones y\n",
        "# relaciones significativas entre las variables, facilitando una interpretación más profunda de los factores\n",
        "# determinantes de la calidad del vino.\n"
      ],
      "metadata": {
        "id": "sOgEEcP4reKR"
      },
      "execution_count": 6,
      "outputs": []
    },
    {
      "cell_type": "code",
      "source": [
        "# Preguntas de Investigación\n",
        "\n",
        "# 1. ¿Existe una relación significativa entre el contenido de alcohol y la calidad del vino?\n",
        "# 2. ¿Cuál es la correlación entre las diferentes variables químicas del vino?\n",
        "# 3. ¿Cómo afecta la acidez (fija y volátil) en conjunto a la calidad del vino?\n",
        "# 4. ¿Qué combinación de propiedades químicas se asocia más comúnmente con vinos de alta calidad?\n",
        "\n",
        "# Hipótesis de Investigación\n",
        "\n",
        "# Las propiedades químicas del vino, como el contenido de alcohol, la acidez fija y volátil, y los niveles de dióxido\n",
        "# de azufre, tienen una influencia significativa y predecible en la calidad del vino.\n"
      ],
      "metadata": {
        "id": "qzHCsrEazF0O"
      },
      "execution_count": 8,
      "outputs": []
    },
    {
      "cell_type": "code",
      "source": [],
      "metadata": {
        "id": "RkkpH50tzSwW"
      },
      "execution_count": null,
      "outputs": []
    }
  ]
}